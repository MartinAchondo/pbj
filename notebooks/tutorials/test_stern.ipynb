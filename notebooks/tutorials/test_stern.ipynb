{
 "cells": [
  {
   "cell_type": "code",
   "execution_count": 2,
   "id": "269e5343",
   "metadata": {},
   "outputs": [
    {
     "name": "stdout",
     "output_type": "stream",
     "text": [
      "E:\\Tesis\\pbj\\pbj\\mesh\\ExternalSoftware\\MSMS\\msms.exe -if E:\\Tesis\\pbj\\notebooks\\tutorials\\mesh_temp\\pqr_stern_test.xyzr -of E:\\Tesis\\pbj\\notebooks\\tutorials\\mesh_temp\\pqr_stern_test -p 1.4 -d 1.0 -no_header\n"
     ]
    }
   ],
   "source": [
    "import pbj\n",
    "import os\n",
    "a  = pbj.Solute('pqr_stern_test.pqr',mesh_generator = 'msms', formulation = 'juffer')"
   ]
  },
  {
   "cell_type": "code",
   "execution_count": 5,
   "id": "8965a678",
   "metadata": {},
   "outputs": [
    {
     "name": "stdout",
     "output_type": "stream",
     "text": [
      "Current formulation: juffer\n",
      "List of available formulations:\n",
      "alpha_beta\n",
      "alpha_beta_external_potential\n",
      "alpha_beta_single_blocked\n",
      "direct\n",
      "direct_external\n",
      "direct_external_permuted\n",
      "direct_permuted\n",
      "first_kind_external\n",
      "first_kind_internal\n",
      "juffer\n",
      "lu\n",
      "muller_external\n",
      "muller_internal\n"
     ]
    }
   ],
   "source": [
    "a.display_available_formulations()"
   ]
  },
  {
   "cell_type": "code",
   "execution_count": null,
   "id": "3c9b0d44",
   "metadata": {},
   "outputs": [],
   "source": [
    "from pbj.electrostatics.pb_formulation.formulations.direct_stern import create_stern_mesh"
   ]
  },
  {
   "cell_type": "code",
   "execution_count": null,
   "id": "8c82ef98",
   "metadata": {},
   "outputs": [],
   "source": [
    "b = create_stern_mesh(a)"
   ]
  },
  {
   "cell_type": "code",
   "execution_count": null,
   "id": "44d7bb01",
   "metadata": {},
   "outputs": [],
   "source": [
    "a.stern_object.mesh.plot()"
   ]
  },
  {
   "cell_type": "code",
   "execution_count": null,
   "id": "ffbfbff6",
   "metadata": {},
   "outputs": [],
   "source": [
    "a.r_q[0]+a.pb_formulation_stern_width"
   ]
  },
  {
   "cell_type": "code",
   "execution_count": null,
   "id": "ff91cb9d",
   "metadata": {},
   "outputs": [],
   "source": [
    "a.external_mesh_file"
   ]
  },
  {
   "cell_type": "code",
   "execution_count": null,
   "id": "5acd6b68",
   "metadata": {},
   "outputs": [],
   "source": [
    "getattr(a, 'external_mesh_file', None)"
   ]
  },
  {
   "cell_type": "code",
   "execution_count": null,
   "id": "96657ac3",
   "metadata": {},
   "outputs": [],
   "source": [
    "import bempp\n",
    "f_op = bempp.api.assembly.boundary_operator.MultiplicationOperator(, \n",
    "                                neumann_protein, neumann_protein, neumann_protein)"
   ]
  },
  {
   "cell_type": "code",
   "execution_count": null,
   "id": "e9315f59",
   "metadata": {},
   "outputs": [],
   "source": []
  }
 ],
 "metadata": {
  "kernelspec": {
   "display_name": "Python 3 (ipykernel)",
   "language": "python",
   "name": "python3"
  },
  "language_info": {
   "codemirror_mode": {
    "name": "ipython",
    "version": 3
   },
   "file_extension": ".py",
   "mimetype": "text/x-python",
   "name": "python",
   "nbconvert_exporter": "python",
   "pygments_lexer": "ipython3",
   "version": "3.9.7"
  }
 },
 "nbformat": 4,
 "nbformat_minor": 5
}
