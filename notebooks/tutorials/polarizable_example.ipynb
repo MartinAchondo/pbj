{
 "cells": [
  {
   "cell_type": "code",
   "execution_count": null,
   "id": "6f9954c2",
   "metadata": {},
   "outputs": [],
   "source": [
    "import pbj"
   ]
  },
  {
   "cell_type": "code",
   "execution_count": null,
   "id": "617f7e91",
   "metadata": {},
   "outputs": [],
   "source": [
    "simulation = pbj.electrostatics.Simulation()\n",
    "simulation.ep_ex = 78.3\n",
    "simulation.pb_preconditioner_type = 'block_diagonal'"
   ]
  },
  {
   "cell_type": "markdown",
   "id": "c96ec0d7",
   "metadata": {},
   "source": [
    "`radius_keyword` can be `vdw` or `solute`\n",
    "\n",
    "`solute_radius_type` can be `PB`, `GK`, or `DDCOSMO`"
   ]
  },
  {
   "cell_type": "code",
   "execution_count": null,
   "id": "ed526291",
   "metadata": {
    "scrolled": true
   },
   "outputs": [],
   "source": [
    "pgb = pbj.electrostatics.Solute(\"1pgb_amoeba/1pgb.xyz\", force_field = \"amoeba\", radius_keyword=\"solute\", solute_radius_type=\"PB\")\n",
    "\n",
    "pgb.ep_in = 1.\n",
    "simulation.add_solute(pgb)"
   ]
  },
  {
   "cell_type": "code",
   "execution_count": null,
   "id": "1c2b4d17",
   "metadata": {},
   "outputs": [],
   "source": [
    "pbj.electrostatics.simulation.bempp.api.enable_console_logging(\"info\")"
   ]
  },
  {
   "cell_type": "code",
   "execution_count": null,
   "id": "2112ac42",
   "metadata": {},
   "outputs": [],
   "source": [
    "simulation.calculate_solvation_energy()"
   ]
  },
  {
   "cell_type": "code",
   "execution_count": null,
   "id": "f67dc72e",
   "metadata": {},
   "outputs": [],
   "source": [
    "simulation.solutes[0].results['solvation_energy']"
   ]
  },
  {
   "cell_type": "code",
   "execution_count": null,
   "id": "c87f89da",
   "metadata": {},
   "outputs": [],
   "source": [
    "print(simulation.solutes[0].results['gradphir_charges'])"
   ]
  },
  {
   "cell_type": "code",
   "execution_count": null,
   "id": "8da8266c",
   "metadata": {},
   "outputs": [],
   "source": []
  }
 ],
 "metadata": {
  "kernelspec": {
   "display_name": "Python 3 (ipykernel)",
   "language": "python",
   "name": "python3"
  },
  "language_info": {
   "codemirror_mode": {
    "name": "ipython",
    "version": 3
   },
   "file_extension": ".py",
   "mimetype": "text/x-python",
   "name": "python",
   "nbconvert_exporter": "python",
   "pygments_lexer": "ipython3",
   "version": "3.9.12"
  }
 },
 "nbformat": 4,
 "nbformat_minor": 5
}
