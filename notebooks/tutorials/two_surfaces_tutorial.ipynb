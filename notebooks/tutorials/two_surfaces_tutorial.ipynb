{
 "cells": [
  {
   "cell_type": "markdown",
   "id": "68cc319d",
   "metadata": {},
   "source": [
    "# Two Surfaces Models"
   ]
  },
  {
   "cell_type": "markdown",
   "id": "31e4e771",
   "metadata": {},
   "source": [
    "The Poisson-Boltzmann single surface models treat the ions in the solvent as point charges and tends to overestimate their concentration in the proximities of charged surfaces. In reality, ions have a finite size thus there is a maximum number of them that can be close to a surface.\n",
    "\n",
    "To reduce this effect, one can include a new surface in the simulation that surrounds the first surface. The new region is called ion-exclusion layer or Stern Layer."
   ]
  },
  {
   "cell_type": "markdown",
   "id": "fd79ac64",
   "metadata": {},
   "source": [
    "## Direct Stern Formulation"
   ]
  },
  {
   "cell_type": "markdown",
   "id": "85c04721",
   "metadata": {},
   "source": [
    "The direct stern formulation is a variation of the direct formulation that simulates two surfaces:  the original solute surface and the new ion-exclusion layer surface. Let´s see how it works: first we import the module and create the basic solute object."
   ]
  },
  {
   "cell_type": "code",
   "execution_count": 2,
   "id": "c4181ca1",
   "metadata": {},
   "outputs": [
    {
     "name": "stdout",
     "output_type": "stream",
     "text": [
      "file does not exist -> Cannot start\n"
     ]
    }
   ],
   "source": [
    "import pbj\n",
    "arginine = pbj.electrostatics.Solute('pqrs/jr1.pqr')"
   ]
  },
  {
   "cell_type": "code",
   "execution_count": null,
   "id": "9bf96c1a",
   "metadata": {},
   "outputs": [],
   "source": []
  }
 ],
 "metadata": {
  "kernelspec": {
   "display_name": "Python 3 (ipykernel)",
   "language": "python",
   "name": "python3"
  },
  "language_info": {
   "codemirror_mode": {
    "name": "ipython",
    "version": 3
   },
   "file_extension": ".py",
   "mimetype": "text/x-python",
   "name": "python",
   "nbconvert_exporter": "python",
   "pygments_lexer": "ipython3",
   "version": "3.9.7"
  }
 },
 "nbformat": 4,
 "nbformat_minor": 5
}
