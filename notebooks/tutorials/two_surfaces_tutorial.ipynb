{
 "cells": [
  {
   "cell_type": "markdown",
   "id": "09c172e2",
   "metadata": {},
   "source": [
    "# Two Surfaces Models"
   ]
  },
  {
   "cell_type": "markdown",
   "id": "286d63ac",
   "metadata": {},
   "source": []
  }
 ],
 "metadata": {
  "kernelspec": {
   "display_name": "Python 3 (ipykernel)",
   "language": "python",
   "name": "python3"
  },
  "language_info": {
   "codemirror_mode": {
    "name": "ipython",
    "version": 3
   },
   "file_extension": ".py",
   "mimetype": "text/x-python",
   "name": "python",
   "nbconvert_exporter": "python",
   "pygments_lexer": "ipython3",
   "version": "3.9.7"
  }
 },
 "nbformat": 4,
 "nbformat_minor": 5
}
